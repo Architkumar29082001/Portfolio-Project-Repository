{
 "cells": [
  {
   "cell_type": "code",
   "execution_count": 2,
   "id": "cb4f4517",
   "metadata": {
    "scrolled": true
   },
   "outputs": [
    {
     "name": "stdout",
     "output_type": "stream",
     "text": [
      "Requirement already satisfied: requests in c:\\users\\archi\\appdata\\local\\programs\\python\\python310\\lib\\site-packages (2.28.1)\n",
      "Requirement already satisfied: certifi>=2017.4.17 in c:\\users\\archi\\appdata\\local\\programs\\python\\python310\\lib\\site-packages (from requests) (2022.6.15)\n",
      "Requirement already satisfied: idna<4,>=2.5 in c:\\users\\archi\\appdata\\local\\programs\\python\\python310\\lib\\site-packages (from requests) (3.3)\n",
      "Requirement already satisfied: charset-normalizer<3,>=2 in c:\\users\\archi\\appdata\\local\\programs\\python\\python310\\lib\\site-packages (from requests) (2.1.0)\n",
      "Requirement already satisfied: urllib3<1.27,>=1.21.1 in c:\\users\\archi\\appdata\\local\\programs\\python\\python310\\lib\\site-packages (from requests) (1.26.11)\n",
      "Note: you may need to restart the kernel to use updated packages.\n",
      "Requirement already satisfied: html5lib in c:\\users\\archi\\appdata\\local\\programs\\python\\python310\\lib\\site-packages (1.1)\n",
      "Requirement already satisfied: webencodings in c:\\users\\archi\\appdata\\local\\programs\\python\\python310\\lib\\site-packages (from html5lib) (0.5.1)\n",
      "Requirement already satisfied: six>=1.9 in c:\\users\\archi\\appdata\\local\\programs\\python\\python310\\lib\\site-packages (from html5lib) (1.16.0)\n",
      "Note: you may need to restart the kernel to use updated packages.\n",
      "Requirement already satisfied: bs4 in c:\\users\\archi\\appdata\\local\\programs\\python\\python310\\lib\\site-packages (0.0.1)\n",
      "Requirement already satisfied: beautifulsoup4 in c:\\users\\archi\\appdata\\local\\programs\\python\\python310\\lib\\site-packages (from bs4) (4.11.1)\n",
      "Requirement already satisfied: soupsieve>1.2 in c:\\users\\archi\\appdata\\local\\programs\\python\\python310\\lib\\site-packages (from beautifulsoup4->bs4) (2.3.2.post1)\n",
      "Note: you may need to restart the kernel to use updated packages.\n",
      "Requirement already satisfied: pandas in c:\\users\\archi\\appdata\\local\\programs\\python\\python310\\lib\\site-packages (1.4.3)\n",
      "Requirement already satisfied: numpy>=1.21.0 in c:\\users\\archi\\appdata\\local\\programs\\python\\python310\\lib\\site-packages (from pandas) (1.23.2)\n",
      "Requirement already satisfied: python-dateutil>=2.8.1 in c:\\users\\archi\\appdata\\local\\programs\\python\\python310\\lib\\site-packages (from pandas) (2.8.2)\n",
      "Requirement already satisfied: pytz>=2020.1 in c:\\users\\archi\\appdata\\local\\programs\\python\\python310\\lib\\site-packages (from pandas) (2022.2.1)\n",
      "Requirement already satisfied: six>=1.5 in c:\\users\\archi\\appdata\\local\\programs\\python\\python310\\lib\\site-packages (from python-dateutil>=2.8.1->pandas) (1.16.0)\n",
      "Note: you may need to restart the kernel to use updated packages.\n"
     ]
    }
   ],
   "source": [
    "# import libraries \n",
    "%pip install requests\n",
    "%pip install html5lib\n",
    "%pip install bs4  \n",
    "%pip install pandas\n",
    "\n"
   ]
  },
  {
   "cell_type": "code",
   "execution_count": 3,
   "id": "dc3bff98",
   "metadata": {},
   "outputs": [],
   "source": [
    "\n",
    "from bs4 import BeautifulSoup\n",
    "import requests\n",
    "import time\n",
    "import datetime"
   ]
  },
  {
   "cell_type": "code",
   "execution_count": 6,
   "id": "0dbf7004",
   "metadata": {},
   "outputs": [
    {
     "name": "stdout",
     "output_type": "stream",
     "text": [
      "Striped Men Round Neck Dark Green T-Shirt\n",
      "400\n",
      "2022-08-23\n"
     ]
    }
   ],
   "source": [
    "# Connect to Website and pull in data from the website \n",
    "# Create a Timestamp for your output to track when data was collected\n",
    "url = \"https://www.flipkart.com/adrenex-striped-men-round-neck-dark-green-t-shirt/p/itm8eda0fcb56b23?pid=TSHG2XHEPB5H2SX8&lid=LSTTSHG2XHEPB5H2SX8ZMEHL5&marketplace=FLIPKART&store=clo%2Fash%2Fank%2Fedy&srno=b_1_11&otracker=browse&fm=organic&iid=en_W083P%2FxhHLOZRiKNKFW8n2TOyvuOiGg04pxzk%2BaKRx9ItHiiLiCtmJUYHsYejKcEbEwpPlGsLAUb%2FAMmEk1wPw%3D%3D&ppt=browse&ppn=browse\"\n",
    "headers = {\"User-Agent\": \"Mozilla/5.0 (Windows NT 10.0; Win64; x64) AppleWebKit/537.36 (KHTML, like Gecko) Chrome/104.0.0.0 Safari/537.36\", \n",
    "    \"X-Amzn-Trace-Id\": \"Root=1-62fe9805-76e8d5050a9fa2be2bc767b5\"}\n",
    "\n",
    "page = requests.get(url, headers=headers)\n",
    "\n",
    "soup1 = BeautifulSoup(page.content, 'html.parser')\n",
    "soup2 = BeautifulSoup(soup1.prettify(),'html.parser')\n",
    "\n",
    "title = soup2.find(class_= 'B_NuCI').get_text()\n",
    "price = soup2.find(class_ = '_30jeq3 _16Jk6d').get_text()\n",
    "date_data = datetime.date.today()\n",
    "\n",
    "price = price.strip()[1:]\n",
    "    \n",
    "title = title.strip() \n",
    "\n",
    "print(title)\n",
    "print(price)\n",
    "print(date_data)\n",
    "\n"
   ]
  },
  {
   "cell_type": "code",
   "execution_count": 4,
   "id": "8d90ccec",
   "metadata": {},
   "outputs": [],
   "source": [
    "#creating csv file as database\n",
    "import csv \n",
    "\n",
    "header = ['Title', 'Price','date of data']\n",
    "data = [title, price,date_data]\n",
    "\n",
    "\n",
    "with open('newflipkartWebScraperDataset.csv', 'w', newline='', encoding='UTF8') as f:\n",
    "    writer = csv.writer(f)\n",
    "    writer.writerow(header)\n",
    "    writer.writerow(data)\n"
   ]
  },
  {
   "cell_type": "code",
   "execution_count": 6,
   "id": "e3be599f",
   "metadata": {
    "scrolled": true
   },
   "outputs": [
    {
     "name": "stdout",
     "output_type": "stream",
     "text": [
      "                                       Title  Price date of data\n",
      "0  Striped Men Round Neck Dark Green T-Shirt    400   2022-08-20\n"
     ]
    }
   ],
   "source": [
    "import pandas as pd\n",
    "df = pd.read_csv(r\"D:\\coding\\python\\newflipkartWebScraperDataset.csv\")\n",
    "\n",
    "print(df)"
   ]
  },
  {
   "cell_type": "code",
   "execution_count": 7,
   "id": "5431c3c2",
   "metadata": {},
   "outputs": [],
   "source": [
    "#Now we are appending data to the csv\n",
    "with open('newflipkartWebScraperDataset.csv', 'a+', newline='', encoding='UTF8') as f:\n",
    "    writer = csv.writer(f)\n",
    "    writer.writerow(data)"
   ]
  },
  {
   "cell_type": "code",
   "execution_count": 20,
   "id": "af8c3924",
   "metadata": {},
   "outputs": [],
   "source": [
    "#combining the code as one fuction\n",
    "def check_price():\n",
    "    url = \"https://www.flipkart.com/adrenex-striped-men-round-neck-dark-green-t-shirt/p/itm8eda0fcb56b23?pid=TSHG2XHEPB5H2SX8&lid=LSTTSHG2XHEPB5H2SX8ZMEHL5&marketplace=FLIPKART&store=clo%2Fash%2Fank%2Fedy&srno=b_1_11&otracker=browse&fm=organic&iid=en_W083P%2FxhHLOZRiKNKFW8n2TOyvuOiGg04pxzk%2BaKRx9ItHiiLiCtmJUYHsYejKcEbEwpPlGsLAUb%2FAMmEk1wPw%3D%3D&ppt=browse&ppn=browse\"\n",
    "    \n",
    "    headers = {\"User-Agent\": \"Mozilla/5.0 (Windows NT 10.0; Win64; x64) AppleWebKit/537.36 (KHTML, like Gecko) Chrome/104.0.0.0 Safari/537.36\", \n",
    "    \"X-Amzn-Trace-Id\": \"Root=1-62fe9805-76e8d5050a9fa2be2bc767b5\"}\n",
    "\n",
    "    page = requests.get(url, headers=headers)\n",
    "\n",
    "    soup1 = BeautifulSoup(page.content, 'html.parser')\n",
    "    \n",
    "    soup2 = BeautifulSoup(soup1.prettify(),'html.parser')\n",
    "\n",
    "    title = soup2.find(class_= 'B_NuCI').get_text()\n",
    "    \n",
    "    price = soup2.find(class_ = '_30jeq3 _16Jk6d').get_text()\n",
    "    \n",
    "    price = price.strip()[1:]\n",
    "    \n",
    "    title = title.strip()    \n",
    "    \n",
    "    import datetime\n",
    "    \n",
    "    date_data = datetime.date.today()    \n",
    "    \n",
    "    import csv\n",
    "    \n",
    "    header = ['Title', 'Price','date of data']\n",
    "    \n",
    "    data = [title, price,date_data]\n",
    "    \n",
    "    with open('newflipkartWebScraperDataset.csv', 'a+', newline='', encoding='UTF8') as f:\n",
    "        \n",
    "        writer = csv.writer(f)\n",
    "        \n",
    "        writer.writerow(data)\n",
    "    "
   ]
  },
  {
   "cell_type": "code",
   "execution_count": 21,
   "id": "9e1d1377",
   "metadata": {
    "scrolled": true
   },
   "outputs": [
    {
     "ename": "KeyboardInterrupt",
     "evalue": "",
     "output_type": "error",
     "traceback": [
      "\u001b[1;31m---------------------------------------------------------------------------\u001b[0m",
      "\u001b[1;31mKeyboardInterrupt\u001b[0m                         Traceback (most recent call last)",
      "Input \u001b[1;32mIn [21]\u001b[0m, in \u001b[0;36m<cell line: 1>\u001b[1;34m()\u001b[0m\n\u001b[0;32m      1\u001b[0m \u001b[38;5;28;01mwhile\u001b[39;00m(\u001b[38;5;28;01mTrue\u001b[39;00m):\n\u001b[0;32m      2\u001b[0m     check_price()\n\u001b[1;32m----> 3\u001b[0m     \u001b[43mtime\u001b[49m\u001b[38;5;241;43m.\u001b[39;49m\u001b[43msleep\u001b[49m\u001b[43m(\u001b[49m\u001b[38;5;241;43m5\u001b[39;49m\u001b[43m)\u001b[49m\n",
      "\u001b[1;31mKeyboardInterrupt\u001b[0m: "
     ]
    }
   ],
   "source": [
    "#creating time interval \n",
    "while(True):\n",
    "    check_price()\n",
    "    time.sleep(5)"
   ]
  },
  {
   "cell_type": "code",
   "execution_count": 22,
   "id": "6a7bf1a9",
   "metadata": {},
   "outputs": [
    {
     "name": "stdout",
     "output_type": "stream",
     "text": [
      "   Striped Men Round Neck Dark Green T-Shirt  400  2022-08-20\n",
      "0  Striped Men Round Neck Dark Green T-Shirt  400  2022-08-20\n",
      "1  Striped Men Round Neck Dark Green T-Shirt  400  2022-08-20\n",
      "2  Striped Men Round Neck Dark Green T-Shirt  400  2022-08-20\n",
      "3  Striped Men Round Neck Dark Green T-Shirt  400  2022-08-20\n"
     ]
    }
   ],
   "source": [
    "import pandas as pd\n",
    "df = pd.read_csv(r\"D:\\coding\\python\\newflipkartWebScraperDataset.csv\")\n",
    "\n",
    "print(df)"
   ]
  },
  {
   "cell_type": "code",
   "execution_count": null,
   "id": "e0dcf1b5",
   "metadata": {},
   "outputs": [],
   "source": []
  }
 ],
 "metadata": {
  "kernelspec": {
   "display_name": "Python 3 (ipykernel)",
   "language": "python",
   "name": "python3"
  },
  "language_info": {
   "codemirror_mode": {
    "name": "ipython",
    "version": 3
   },
   "file_extension": ".py",
   "mimetype": "text/x-python",
   "name": "python",
   "nbconvert_exporter": "python",
   "pygments_lexer": "ipython3",
   "version": "3.10.6"
  }
 },
 "nbformat": 4,
 "nbformat_minor": 5
}
